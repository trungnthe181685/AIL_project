{
 "cells": [
  {
   "cell_type": "code",
   "execution_count": 1,
   "metadata": {},
   "outputs": [],
   "source": [
    "import pandas as pd\n",
    "import numpy as np\n",
    "from sklearn.model_selection import train_test_split\n",
    "from sklearn.metrics.pairwise import cosine_similarity\n",
    "from sklearn.metrics import mean_squared_error"
   ]
  },
  {
   "cell_type": "code",
   "execution_count": 2,
   "metadata": {},
   "outputs": [
    {
     "data": {
      "text/html": [
       "<div>\n",
       "<style scoped>\n",
       "    .dataframe tbody tr th:only-of-type {\n",
       "        vertical-align: middle;\n",
       "    }\n",
       "\n",
       "    .dataframe tbody tr th {\n",
       "        vertical-align: top;\n",
       "    }\n",
       "\n",
       "    .dataframe thead th {\n",
       "        text-align: right;\n",
       "    }\n",
       "</style>\n",
       "<table border=\"1\" class=\"dataframe\">\n",
       "  <thead>\n",
       "    <tr style=\"text-align: right;\">\n",
       "      <th></th>\n",
       "      <th>user</th>\n",
       "      <th>item</th>\n",
       "      <th>rating</th>\n",
       "    </tr>\n",
       "  </thead>\n",
       "  <tbody>\n",
       "    <tr>\n",
       "      <th>0</th>\n",
       "      <td>1889878</td>\n",
       "      <td>CC0101EN</td>\n",
       "      <td>3.0</td>\n",
       "    </tr>\n",
       "    <tr>\n",
       "      <th>1</th>\n",
       "      <td>1342067</td>\n",
       "      <td>CL0101EN</td>\n",
       "      <td>3.0</td>\n",
       "    </tr>\n",
       "    <tr>\n",
       "      <th>2</th>\n",
       "      <td>1990814</td>\n",
       "      <td>ML0120ENv3</td>\n",
       "      <td>3.0</td>\n",
       "    </tr>\n",
       "    <tr>\n",
       "      <th>3</th>\n",
       "      <td>380098</td>\n",
       "      <td>BD0211EN</td>\n",
       "      <td>3.0</td>\n",
       "    </tr>\n",
       "    <tr>\n",
       "      <th>4</th>\n",
       "      <td>779563</td>\n",
       "      <td>DS0101EN</td>\n",
       "      <td>3.0</td>\n",
       "    </tr>\n",
       "    <tr>\n",
       "      <th>...</th>\n",
       "      <td>...</td>\n",
       "      <td>...</td>\n",
       "      <td>...</td>\n",
       "    </tr>\n",
       "    <tr>\n",
       "      <th>233301</th>\n",
       "      <td>1540125</td>\n",
       "      <td>DS0101EN</td>\n",
       "      <td>3.0</td>\n",
       "    </tr>\n",
       "    <tr>\n",
       "      <th>233302</th>\n",
       "      <td>1250651</td>\n",
       "      <td>PY0101EN</td>\n",
       "      <td>3.0</td>\n",
       "    </tr>\n",
       "    <tr>\n",
       "      <th>233303</th>\n",
       "      <td>1003832</td>\n",
       "      <td>CB0105ENv1</td>\n",
       "      <td>3.0</td>\n",
       "    </tr>\n",
       "    <tr>\n",
       "      <th>233304</th>\n",
       "      <td>922065</td>\n",
       "      <td>BD0141EN</td>\n",
       "      <td>3.0</td>\n",
       "    </tr>\n",
       "    <tr>\n",
       "      <th>233305</th>\n",
       "      <td>1596120</td>\n",
       "      <td>DS0301EN</td>\n",
       "      <td>3.0</td>\n",
       "    </tr>\n",
       "  </tbody>\n",
       "</table>\n",
       "<p>233306 rows × 3 columns</p>\n",
       "</div>"
      ],
      "text/plain": [
       "           user        item  rating\n",
       "0       1889878    CC0101EN     3.0\n",
       "1       1342067    CL0101EN     3.0\n",
       "2       1990814  ML0120ENv3     3.0\n",
       "3        380098    BD0211EN     3.0\n",
       "4        779563    DS0101EN     3.0\n",
       "...         ...         ...     ...\n",
       "233301  1540125    DS0101EN     3.0\n",
       "233302  1250651    PY0101EN     3.0\n",
       "233303  1003832  CB0105ENv1     3.0\n",
       "233304   922065    BD0141EN     3.0\n",
       "233305  1596120    DS0301EN     3.0\n",
       "\n",
       "[233306 rows x 3 columns]"
      ]
     },
     "execution_count": 2,
     "metadata": {},
     "output_type": "execute_result"
    }
   ],
   "source": [
    "data = pd.read_csv('ratings.csv')\n",
    "data"
   ]
  },
  {
   "cell_type": "code",
   "execution_count": 3,
   "metadata": {},
   "outputs": [
    {
     "data": {
      "text/plain": [
       "user\n",
       "2          61\n",
       "5          59\n",
       "1653994    51\n",
       "924030     51\n",
       "746163     50\n",
       "           ..\n",
       "1058827     1\n",
       "715501      1\n",
       "763737      1\n",
       "506416      1\n",
       "711047      1\n",
       "Name: count, Length: 33901, dtype: int64"
      ]
     },
     "execution_count": 3,
     "metadata": {},
     "output_type": "execute_result"
    }
   ],
   "source": [
    "user_rating_counts = data['user'].value_counts()\n",
    "user_rating_counts"
   ]
  },
  {
   "cell_type": "code",
   "execution_count": 4,
   "metadata": {},
   "outputs": [
    {
     "data": {
      "text/plain": [
       "Index([      2,       5, 1653994,  924030,  746163, 1761291,  382781,  971917,\n",
       "       1559851, 1445103,\n",
       "       ...\n",
       "        435543, 1112795,   86305,  352985,  435122, 1776998,  295083,  481714,\n",
       "        211118, 1776024],\n",
       "      dtype='int64', name='user', length=25581)"
      ]
     },
     "execution_count": 4,
     "metadata": {},
     "output_type": "execute_result"
    }
   ],
   "source": [
    "users_with_more_than_2_ratings = user_rating_counts[user_rating_counts >= 2].index\n",
    "users_with_more_than_2_ratings"
   ]
  },
  {
   "cell_type": "code",
   "execution_count": 5,
   "metadata": {},
   "outputs": [],
   "source": [
    "filtered_data = data[data['user'].isin(users_with_more_than_2_ratings)]\n",
    "\n",
    "# train_data, test_data = train_test_split(filtered_data, test_size=0.2, random_state=42)\n",
    "\n",
    "df = filtered_data.pivot_table(index='user', columns='item', values='rating')\n",
    "\n",
    "# user_item_matrix = train_matrix.fillna(0) \n",
    "# user_similarity = cosine_similarity(user_item_matrix)\n",
    "\n",
    "# user_similarity_df = pd.DataFrame(user_similarity, index=user_item_matrix.index, columns=user_item_matrix.index)"
   ]
  },
  {
   "cell_type": "code",
   "execution_count": 6,
   "metadata": {},
   "outputs": [
    {
     "name": "stdout",
     "output_type": "stream",
     "text": [
      "RMSE: 0.0847\n"
     ]
    }
   ],
   "source": [
    "import pandas as pd\n",
    "from surprise import SVD, Dataset, Reader\n",
    "from surprise.model_selection import train_test_split\n",
    "from surprise import accuracy\n",
    "\n",
    "\n",
    "long_df = filtered_data\n",
    "\n",
    "# Define the Reader for Surprise\n",
    "reader = Reader(rating_scale=(1, 5))\n",
    "\n",
    "# Load the data into Surprise format\n",
    "data = Dataset.load_from_df(long_df[['user', 'item', 'rating']], reader)\n",
    "\n",
    "# Train-test split (20% of data for testing)\n",
    "trainset, testset = train_test_split(data, test_size=0.2)\n",
    "\n",
    "# Use SVD (Singular Value Decomposition) for matrix factorization\n",
    "model = SVD()\n",
    "\n",
    "# Train the model on the training set\n",
    "model.fit(trainset)\n",
    "\n",
    "# Predict ratings for the test set\n",
    "test_predictions = model.test(testset)\n",
    "\n",
    "# Calculate RMSE for the test set predictions\n",
    "rmse = accuracy.rmse(test_predictions)\n",
    "\n",
    "# # Predict missing values for all users\n",
    "# predictions = []\n",
    "# for user in df.index:\n",
    "#     user_predictions = []\n",
    "#     for item in df.columns:\n",
    "#         prediction = model.predict(user, item)\n",
    "#         user_predictions.append(prediction.est)\n",
    "#     predictions.append(user_predictions)\n",
    "\n",
    "# # Create a DataFrame from the predictions and fill in missing values\n",
    "# predicted_df = pd.DataFrame(predictions, columns=df.columns, index=df.index)\n",
    "\n",
    "# # Replace missing values in the original DataFrame with predicted ones\n",
    "# df_filled = df.copy()\n",
    "# for user in df.index:\n",
    "#     for item in df.columns:\n",
    "#         if pd.isna(df_filled.loc[user, item]):\n",
    "#             df_filled.loc[user, item] = predicted_df.loc[user, item]"
   ]
  }
 ],
 "metadata": {
  "kernelspec": {
   "display_name": "capstone1",
   "language": "python",
   "name": "python3"
  },
  "language_info": {
   "codemirror_mode": {
    "name": "ipython",
    "version": 3
   },
   "file_extension": ".py",
   "mimetype": "text/x-python",
   "name": "python",
   "nbconvert_exporter": "python",
   "pygments_lexer": "ipython3",
   "version": "3.8.0"
  }
 },
 "nbformat": 4,
 "nbformat_minor": 2
}
